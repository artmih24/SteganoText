{
 "cells": [
  {
   "cell_type": "code",
   "execution_count": 1,
   "metadata": {},
   "outputs": [],
   "source": [
    "lenbin = 14\n",
    "numbers10 = list(\"0123456789\")\n",
    "chars = list('''., :;-!?'\"/\\|()[]{}#№'$&%«»—<>*^~`_''')\n",
    "rusalpha = list(\"абвгдеёжзийклмнопрстуфхцчшщъыьэюя\")\n",
    "rusalphacaps = list(\"АБВГДЕЁЖЗИЙКЛМНОПРСТУФХЦЧШЩЪЫЬЭЮЯ\")\n",
    "rusalphaall = rusalpha + rusalphacaps + chars + numbers10\n",
    "engalpha = list(\"abcdefghijklmnopqrstuvwxyz\")\n",
    "engalphacaps = list(\"ABCDEFGHIJKLMNOPQRSTUVWXYZ\")\n",
    "engalphaall = engalpha + engalphacaps + chars + numbers10\n",
    "rusalphaeng = list(\"аеорсухАВЕКМНОРСТХ\")\n",
    "engalpharus = list(\"aeopcyxABEKMHOPCTX\")\n",
    "rusalphaadd = list(\"ёзиклмнтБГЁП!\")\n",
    "addalpharus = list(\"ëɜᴎĸᴫᴍʜᴛƂΓËΠǃ\")\n",
    "engalphaadd = list(\"dijqsuwzIJLNQSUWYZ!\")\n",
    "addalphaeng = list(\"ԁіјԛѕսԝᴢІЈԼΝԚЅՍԜҮΖǃ\")\n",
    "rusalphaeng2 = rusalphaeng + rusalphaadd\n",
    "engalpharus2 = engalpharus + addalpharus\n",
    "engalpharus3 = engalpharus + engalphaadd\n",
    "rusalphaeng3 = rusalphaeng + addalphaeng"
   ]
  },
  {
   "cell_type": "code",
   "execution_count": 2,
   "metadata": {},
   "outputs": [],
   "source": [
    "import copy"
   ]
  },
  {
   "cell_type": "code",
   "execution_count": 3,
   "metadata": {},
   "outputs": [],
   "source": [
    "def count_letters(textlist, alphalist):\n",
    "    cnt = 0\n",
    "    for i in range(len(textlist)):\n",
    "        for j in range(len(alphalist)):\n",
    "            if textlist[i] == alphalist[j]: \n",
    "                cnt += 1\n",
    "    return cnt"
   ]
  },
  {
   "cell_type": "code",
   "execution_count": 4,
   "metadata": {},
   "outputs": [],
   "source": [
    "def check_text_alpha(textlist, alphalist):\n",
    "    if len(textlist) == count_letters(textlist, alphalist): \n",
    "        return True\n",
    "    else: \n",
    "        return False"
   ]
  },
  {
   "cell_type": "code",
   "execution_count": 5,
   "metadata": {},
   "outputs": [],
   "source": [
    "def embed_text(textlist, binary_code, rus_alpha_eng, eng_alpha_rus):\n",
    "    textlist1 = textlist\n",
    "    binary_code_list = list(binary_code)\n",
    "    if textlist1[len(textlist1) - 1] != \".\" and textlist1[len(textlist1) - 1] != \"?\" and textlist1[len(textlist1) - 1] != \"!\":\n",
    "        if count_letters(textlist1, rus_alpha_eng) < len(binary_code_list): \n",
    "            textlist1.append(\".\")\n",
    "    while count_letters(textlist1, rus_alpha_eng) < len(binary_code_list): \n",
    "        textlist1 += list(\" \") + textlist\n",
    "    while len(binary_code_list) < count_letters(textlist1, rus_alpha_eng): \n",
    "        binary_code_list.append(\"0\")\n",
    "    k = 0\n",
    "    for i in range(len(textlist1)):\n",
    "        for j in range(len(rus_alpha_eng)):\n",
    "            if textlist1[i] == rus_alpha_eng[j]:\n",
    "                if binary_code_list[k] == \"1\": \n",
    "                    textlist1[i] = eng_alpha_rus[j]\n",
    "                k += 1\n",
    "    return ''.join(textlist1)"
   ]
  },
  {
   "cell_type": "code",
   "execution_count": 13,
   "metadata": {},
   "outputs": [],
   "source": [
    "def stegano_cipher(plaintext, crypttext, plaintextrusflag, plaintextengflag):\n",
    "    plaintextlist = list(plaintext)\n",
    "    crypttextlist = list(crypttext)\n",
    "    crypttextcharcodes = []\n",
    "    for i in range(len(crypttextlist)): \n",
    "        crypttextcharcodes.append(ord(crypttextlist[i]))\n",
    "    crypttextcharcodesbin = []\n",
    "    for i in range(len(crypttextcharcodes)): \n",
    "        crypttextcharcodesbin.append(bin(crypttextcharcodes[i]))\n",
    "    crypttextcharcodesbinstr = []\n",
    "    for i in range(len(crypttextcharcodesbin)): \n",
    "        crypttextcharcodesbinstr.append(str(crypttextcharcodesbin[i])[2:])\n",
    "    for i in range(len(crypttextcharcodesbinstr)):\n",
    "        while len(list(crypttextcharcodesbinstr[i])) < lenbin: \n",
    "            crypttextcharcodesbinstr[i] = \"0\" + crypttextcharcodesbinstr[i]\n",
    "    crypttextcharcodesbinstrall = ''.join(crypttextcharcodesbinstr)\n",
    "    if plaintextrusflag and plaintextengflag: \n",
    "        steganotext = embed_text(plaintextlist, crypttextcharcodesbinstrall, rusalphaeng2, engalpharus2)\n",
    "    else:\n",
    "        if plaintextrusflag: \n",
    "            steganotext = embed_text(plaintextlist, crypttextcharcodesbinstrall, rusalphaeng2, engalpharus2)\n",
    "        if plaintextengflag: \n",
    "            steganotext = embed_text(plaintextlist, crypttextcharcodesbinstrall, engalpharus3, rusalphaeng3)\n",
    "    return steganotext"
   ]
  },
  {
   "cell_type": "code",
   "execution_count": 6,
   "metadata": {},
   "outputs": [],
   "source": [
    "def try_stegano_decipher(text, rus_alpha_eng, eng_alpha_rus):\n",
    "    textlist = list(text)\n",
    "    binary_code_list = []\n",
    "    for i in range(len(textlist)):\n",
    "        for j in range(len(eng_alpha_rus)):\n",
    "            if textlist[i] == eng_alpha_rus[j]: \n",
    "                binary_code_list.append(\"1\")\n",
    "            if textlist[i] == rus_alpha_eng[j]: \n",
    "                binary_code_list.append(\"0\")\n",
    "    length_decipher = int(len(binary_code_list) / lenbin)\n",
    "    decipher_bin_codes = []\n",
    "    for i in range(length_decipher):\n",
    "        decipher_bin_code = list(\"0b\")\n",
    "        for j in range(lenbin): \n",
    "            decipher_bin_code.append(binary_code_list[j + i * lenbin])\n",
    "        decipher_bin_codes.append(decipher_bin_code)\n",
    "    char_codes = []\n",
    "    for i in range(length_decipher): \n",
    "        char_codes.append(int(''.join(decipher_bin_codes[i]), 2))\n",
    "    decipher_text_list = []\n",
    "    for i in range(length_decipher): \n",
    "        decipher_text_list.append(chr(char_codes[i]))\n",
    "    return ''.join(decipher_text_list)"
   ]
  },
  {
   "cell_type": "code",
   "execution_count": 7,
   "metadata": {},
   "outputs": [],
   "source": [
    "def try_plaintext_fix(text, rus_alpha_eng, eng_alpha_rus):\n",
    "    textlist = list(text)\n",
    "    plaintextfixlist = textlist\n",
    "    for i in range(len(plaintextfixlist)):\n",
    "        for j in range(len(eng_alpha_rus)):\n",
    "            if plaintextfixlist[i] == eng_alpha_rus[j]: \n",
    "                plaintextfixlist[i] = rus_alpha_eng[j]\n",
    "    return ''.join(plaintextfixlist)"
   ]
  },
  {
   "cell_type": "code",
   "execution_count": 8,
   "metadata": {},
   "outputs": [],
   "source": [
    "def stegano_decipher(text):\n",
    "    text1 = copy.deepcopy(text)\n",
    "    decrypttext1 = try_stegano_decipher(text, rusalphaeng2, engalpharus2)\n",
    "    plaintextfix1 = try_plaintext_fix(text, rusalphaeng2, engalpharus2)\n",
    "    plaintextfixrusflag = check_text_alpha(list(plaintextfix1), rusalphaall)\n",
    "    if check_text_alpha(list(plaintextfix1), rusalphaall) == check_text_alpha(list(plaintextfix1), engalphaall):\n",
    "        return decrypttext1\n",
    "    else:\n",
    "        if not plaintextfixrusflag:\n",
    "            decrypttext1 = try_stegano_decipher(text1, engalpharus3, rusalphaeng3)\n",
    "            plaintextfix1 = try_plaintext_fix(text, engalpharus3, rusalphaeng3)\n",
    "            plaintextfixengflag = check_text_alpha(list(plaintextfix1), engalphaall)\n",
    "        if plaintextfixrusflag or plaintextfixengflag: \n",
    "            return decrypttext1"
   ]
  },
  {
   "cell_type": "code",
   "execution_count": 9,
   "metadata": {},
   "outputs": [],
   "source": [
    "def plaintext_fix(text):\n",
    "    textlist = list(text)\n",
    "    plaintextfix1 = try_plaintext_fix(textlist, rusalphaeng2, engalpharus2)\n",
    "    plaintextfixrusflag = check_text_alpha(list(plaintextfix1), rusalphaall)\n",
    "    if plaintextfixrusflag == 0:\n",
    "        plaintextfix1 = try_plaintext_fix(textlist, engalpharus3, rusalphaeng3)\n",
    "        plaintextfixengflag = check_text_alpha(list(plaintextfix1), engalphaall)\n",
    "    if check_text_alpha(list(plaintextfix1), rusalphaall) == check_text_alpha(list(plaintextfix1), engalphaall):\n",
    "        plaintextfix1 = try_plaintext_fix(textlist, rusalphaeng2, engalpharus2)\n",
    "    if plaintextfixrusflag or plaintextfixengflag: \n",
    "        return plaintextfix1"
   ]
  },
  {
   "cell_type": "code",
   "execution_count": 15,
   "metadata": {},
   "outputs": [
    {
     "name": "stdout",
     "output_type": "stream",
     "text": [
      "\n",
      "Текст с зашифрованным текстом:\n",
      "прогрaммный иʜᴛepфeйс для перeдачи инфopᴍaциᴎ, котoрый позвоᴫяeᴛ oбᴍениваться сообщeниями между прoцессaми, выполняющими одʜу задачy. Pазработаʜ Уильямоᴍ Γроуппoм, Эвинoм Ласкoᴍ ᴎ дpyгими. прoграмᴍный интeрфейс для пeредачи ᴎʜформации, кoторый поɜвoляeт oбменᴎваться cообщенᴎями между процесcами, выпоᴫняющими одну задачу. Разработан Уильямом Гроуппом, Эвином Ласком и другими.\n",
      "\n",
      "\n",
      "Исходный текст без зашифрованного текста:\n",
      "программный интерфейс для передачи информации, который позволяет обмениваться сообщениями между процессами, выполняющими одну задачу. Разработан Уильямом Гроуппом, Эвином Ласком и другими. программный интерфейс для передачи информации, который позволяет обмениваться сообщениями между процессами, выполняющими одну задачу. Разработан Уильямом Гроуппом, Эвином Ласком и другими.\n",
      "\n",
      "Зашифрованный текст:\n",
      "оно работает!\u0000\u0000\u0000\n",
      "\n"
     ]
    },
    {
     "ename": "IndexError",
     "evalue": "list index out of range",
     "output_type": "error",
     "traceback": [
      "\u001b[1;31m---------------------------------------------------------------------------\u001b[0m",
      "\u001b[1;31mIndexError\u001b[0m                                Traceback (most recent call last)",
      "\u001b[1;32me:\\Артём\\Мои программы\\SteganoText\\SteganoText.ipynb Cell 11'\u001b[0m in \u001b[0;36m<module>\u001b[1;34m\u001b[0m\n\u001b[0;32m     <a href='vscode-notebook-cell:/e%3A/%D0%90%D1%80%D1%82%D1%91%D0%BC/%D0%9C%D0%BE%D0%B8%20%D0%BF%D1%80%D0%BE%D0%B3%D1%80%D0%B0%D0%BC%D0%BC%D1%8B/SteganoText/SteganoText.ipynb#ch0000011?line=9'>10</a>\u001b[0m \u001b[39melse\u001b[39;00m:\n\u001b[0;32m     <a href='vscode-notebook-cell:/e%3A/%D0%90%D1%80%D1%82%D1%91%D0%BC/%D0%9C%D0%BE%D0%B8%20%D0%BF%D1%80%D0%BE%D0%B3%D1%80%D0%B0%D0%BC%D0%BC%D1%8B/SteganoText/SteganoText.ipynb#ch0000011?line=10'>11</a>\u001b[0m     crypttext \u001b[39m=\u001b[39m \u001b[39minput\u001b[39m(\u001b[39m\"\u001b[39m\u001b[39m\\n\u001b[39;00m\u001b[39mВведите текст, который нужно зашифровать\u001b[39m\u001b[39m\\n\u001b[39;00m\u001b[39m\"\u001b[39m)\n\u001b[1;32m---> <a href='vscode-notebook-cell:/e%3A/%D0%90%D1%80%D1%82%D1%91%D0%BC/%D0%9C%D0%BE%D0%B8%20%D0%BF%D1%80%D0%BE%D0%B3%D1%80%D0%B0%D0%BC%D0%BC%D1%8B/SteganoText/SteganoText.ipynb#ch0000011?line=11'>12</a>\u001b[0m     steganotext \u001b[39m=\u001b[39m stegano_cipher(plaintext, crypttext, plaintextrusflag, plaintextengflag)\n\u001b[0;32m     <a href='vscode-notebook-cell:/e%3A/%D0%90%D1%80%D1%82%D1%91%D0%BC/%D0%9C%D0%BE%D0%B8%20%D0%BF%D1%80%D0%BE%D0%B3%D1%80%D0%B0%D0%BC%D0%BC%D1%8B/SteganoText/SteganoText.ipynb#ch0000011?line=12'>13</a>\u001b[0m     \u001b[39mprint\u001b[39m(\u001b[39m\"\u001b[39m\u001b[39m\\n\u001b[39;00m\u001b[39mТекст с зашифрованным текстом:\u001b[39m\u001b[39m\\n\u001b[39;00m\u001b[39m\"\u001b[39m, steganotext, \u001b[39m'\u001b[39m\u001b[39m\\n\u001b[39;00m\u001b[39m'\u001b[39m, sep \u001b[39m=\u001b[39m \u001b[39m'\u001b[39m\u001b[39m'\u001b[39m)\n\u001b[0;32m     <a href='vscode-notebook-cell:/e%3A/%D0%90%D1%80%D1%82%D1%91%D0%BC/%D0%9C%D0%BE%D0%B8%20%D0%BF%D1%80%D0%BE%D0%B3%D1%80%D0%B0%D0%BC%D0%BC%D1%8B/SteganoText/SteganoText.ipynb#ch0000011?line=13'>14</a>\u001b[0m plaintextrusflag \u001b[39m=\u001b[39m \u001b[39m0\u001b[39m\n",
      "\u001b[1;32me:\\Артём\\Мои программы\\SteganoText\\SteganoText.ipynb Cell 6'\u001b[0m in \u001b[0;36mstegano_cipher\u001b[1;34m(plaintext, crypttext, plaintextrusflag, plaintextengflag)\u001b[0m\n\u001b[0;32m     <a href='vscode-notebook-cell:/e%3A/%D0%90%D1%80%D1%82%D1%91%D0%BC/%D0%9C%D0%BE%D0%B8%20%D0%BF%D1%80%D0%BE%D0%B3%D1%80%D0%B0%D0%BC%D0%BC%D1%8B/SteganoText/SteganoText.ipynb#ch0000005?line=15'>16</a>\u001b[0m crypttextcharcodesbinstrall \u001b[39m=\u001b[39m \u001b[39m'\u001b[39m\u001b[39m'\u001b[39m\u001b[39m.\u001b[39mjoin(crypttextcharcodesbinstr)\n\u001b[0;32m     <a href='vscode-notebook-cell:/e%3A/%D0%90%D1%80%D1%82%D1%91%D0%BC/%D0%9C%D0%BE%D0%B8%20%D0%BF%D1%80%D0%BE%D0%B3%D1%80%D0%B0%D0%BC%D0%BC%D1%8B/SteganoText/SteganoText.ipynb#ch0000005?line=16'>17</a>\u001b[0m \u001b[39mif\u001b[39;00m plaintextrusflag \u001b[39mand\u001b[39;00m plaintextengflag: \n\u001b[1;32m---> <a href='vscode-notebook-cell:/e%3A/%D0%90%D1%80%D1%82%D1%91%D0%BC/%D0%9C%D0%BE%D0%B8%20%D0%BF%D1%80%D0%BE%D0%B3%D1%80%D0%B0%D0%BC%D0%BC%D1%8B/SteganoText/SteganoText.ipynb#ch0000005?line=17'>18</a>\u001b[0m     steganotext \u001b[39m=\u001b[39m embed_text(plaintextlist, crypttextcharcodesbinstrall, rusalphaeng2, engalpharus2)\n\u001b[0;32m     <a href='vscode-notebook-cell:/e%3A/%D0%90%D1%80%D1%82%D1%91%D0%BC/%D0%9C%D0%BE%D0%B8%20%D0%BF%D1%80%D0%BE%D0%B3%D1%80%D0%B0%D0%BC%D0%BC%D1%8B/SteganoText/SteganoText.ipynb#ch0000005?line=18'>19</a>\u001b[0m \u001b[39melse\u001b[39;00m:\n\u001b[0;32m     <a href='vscode-notebook-cell:/e%3A/%D0%90%D1%80%D1%82%D1%91%D0%BC/%D0%9C%D0%BE%D0%B8%20%D0%BF%D1%80%D0%BE%D0%B3%D1%80%D0%B0%D0%BC%D0%BC%D1%8B/SteganoText/SteganoText.ipynb#ch0000005?line=19'>20</a>\u001b[0m     \u001b[39mif\u001b[39;00m plaintextrusflag: \n",
      "\u001b[1;32me:\\Артём\\Мои программы\\SteganoText\\SteganoText.ipynb Cell 5'\u001b[0m in \u001b[0;36membed_text\u001b[1;34m(textlist, binary_code, rus_alpha_eng, eng_alpha_rus)\u001b[0m\n\u001b[0;32m      <a href='vscode-notebook-cell:/e%3A/%D0%90%D1%80%D1%82%D1%91%D0%BC/%D0%9C%D0%BE%D0%B8%20%D0%BF%D1%80%D0%BE%D0%B3%D1%80%D0%B0%D0%BC%D0%BC%D1%8B/SteganoText/SteganoText.ipynb#ch0000004?line=1'>2</a>\u001b[0m textlist1 \u001b[39m=\u001b[39m textlist\n\u001b[0;32m      <a href='vscode-notebook-cell:/e%3A/%D0%90%D1%80%D1%82%D1%91%D0%BC/%D0%9C%D0%BE%D0%B8%20%D0%BF%D1%80%D0%BE%D0%B3%D1%80%D0%B0%D0%BC%D0%BC%D1%8B/SteganoText/SteganoText.ipynb#ch0000004?line=2'>3</a>\u001b[0m binary_code_list \u001b[39m=\u001b[39m \u001b[39mlist\u001b[39m(binary_code)\n\u001b[1;32m----> <a href='vscode-notebook-cell:/e%3A/%D0%90%D1%80%D1%82%D1%91%D0%BC/%D0%9C%D0%BE%D0%B8%20%D0%BF%D1%80%D0%BE%D0%B3%D1%80%D0%B0%D0%BC%D0%BC%D1%8B/SteganoText/SteganoText.ipynb#ch0000004?line=3'>4</a>\u001b[0m \u001b[39mif\u001b[39;00m textlist1[\u001b[39mlen\u001b[39;49m(textlist1) \u001b[39m-\u001b[39;49m \u001b[39m1\u001b[39;49m] \u001b[39m!=\u001b[39m \u001b[39m\"\u001b[39m\u001b[39m.\u001b[39m\u001b[39m\"\u001b[39m \u001b[39mand\u001b[39;00m textlist1[\u001b[39mlen\u001b[39m(textlist1) \u001b[39m-\u001b[39m \u001b[39m1\u001b[39m] \u001b[39m!=\u001b[39m \u001b[39m\"\u001b[39m\u001b[39m?\u001b[39m\u001b[39m\"\u001b[39m \u001b[39mand\u001b[39;00m textlist1[\u001b[39mlen\u001b[39m(textlist1) \u001b[39m-\u001b[39m \u001b[39m1\u001b[39m] \u001b[39m!=\u001b[39m \u001b[39m\"\u001b[39m\u001b[39m!\u001b[39m\u001b[39m\"\u001b[39m:\n\u001b[0;32m      <a href='vscode-notebook-cell:/e%3A/%D0%90%D1%80%D1%82%D1%91%D0%BC/%D0%9C%D0%BE%D0%B8%20%D0%BF%D1%80%D0%BE%D0%B3%D1%80%D0%B0%D0%BC%D0%BC%D1%8B/SteganoText/SteganoText.ipynb#ch0000004?line=4'>5</a>\u001b[0m     \u001b[39mif\u001b[39;00m count_letters(textlist1, rus_alpha_eng) \u001b[39m<\u001b[39m \u001b[39mlen\u001b[39m(binary_code_list): \n\u001b[0;32m      <a href='vscode-notebook-cell:/e%3A/%D0%90%D1%80%D1%82%D1%91%D0%BC/%D0%9C%D0%BE%D0%B8%20%D0%BF%D1%80%D0%BE%D0%B3%D1%80%D0%B0%D0%BC%D0%BC%D1%8B/SteganoText/SteganoText.ipynb#ch0000004?line=5'>6</a>\u001b[0m         textlist1\u001b[39m.\u001b[39mappend(\u001b[39m\"\u001b[39m\u001b[39m.\u001b[39m\u001b[39m\"\u001b[39m)\n",
      "\u001b[1;31mIndexError\u001b[0m: list index out of range"
     ]
    }
   ],
   "source": [
    "while True:\n",
    "    plaintext = input(\"Введите текст\\n\")\n",
    "    plaintextrusflag = check_text_alpha(plaintext, rusalphaall)\n",
    "    plaintextengflag = check_text_alpha(plaintext, engalphaall)\n",
    "    if not plaintextrusflag and not plaintextengflag:\n",
    "        decrypttext = stegano_decipher(plaintext)\n",
    "        plaintextfix = plaintext_fix(plaintext)\n",
    "        print(\"\\nИсходный текст без зашифрованного текста:\\n\", plaintextfix, sep = '')\n",
    "        print(\"\\nЗашифрованный текст:\\n\", decrypttext, '\\n', sep = '')\n",
    "    else:\n",
    "        crypttext = input(\"\\nВведите текст, который нужно зашифровать\\n\")\n",
    "        steganotext = stegano_cipher(plaintext, crypttext, plaintextrusflag, plaintextengflag)\n",
    "        print(\"\\nТекст с зашифрованным текстом:\\n\", steganotext, '\\n', sep = '')\n",
    "    plaintextrusflag = 0\n",
    "    plaintextengflag = 0"
   ]
  }
 ],
 "metadata": {
  "interpreter": {
   "hash": "ac59ebe37160ed0dfa835113d9b8498d9f09ceb179beaac4002f036b9467c963"
  },
  "kernelspec": {
   "display_name": "Python 3.9.7 64-bit",
   "language": "python",
   "name": "python3"
  },
  "language_info": {
   "codemirror_mode": {
    "name": "ipython",
    "version": 3
   },
   "file_extension": ".py",
   "mimetype": "text/x-python",
   "name": "python",
   "nbconvert_exporter": "python",
   "pygments_lexer": "ipython3",
   "version": "3.9.7"
  },
  "orig_nbformat": 4
 },
 "nbformat": 4,
 "nbformat_minor": 2
}
